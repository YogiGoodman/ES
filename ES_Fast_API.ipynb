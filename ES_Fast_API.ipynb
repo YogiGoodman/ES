{
  "nbformat": 4,
  "nbformat_minor": 0,
  "metadata": {
    "colab": {
      "provenance": [],
      "authorship_tag": "ABX9TyM5IUHbt+6JXgBZ1mW6rKRp",
      "include_colab_link": true
    },
    "kernelspec": {
      "name": "python3",
      "display_name": "Python 3"
    },
    "language_info": {
      "name": "python"
    }
  },
  "cells": [
    {
      "cell_type": "markdown",
      "metadata": {
        "id": "view-in-github",
        "colab_type": "text"
      },
      "source": [
        "<a href=\"https://colab.research.google.com/github/YogiGoodman/ES/blob/main/ES_Fast_API.ipynb\" target=\"_parent\"><img src=\"https://colab.research.google.com/assets/colab-badge.svg\" alt=\"Open In Colab\"/></a>"
      ]
    },
    {
      "cell_type": "code",
      "execution_count": null,
      "metadata": {
        "id": "FAJCD6Eon1TD"
      },
      "outputs": [],
      "source": [
        "# ✅ Step 1: Install Dependencies\n",
        "!pip install elasticsearch sentence-transformers faker tqdm\n",
        "\n",
        "# ✅ Step 2: Import Libraries\n",
        "import random\n",
        "import string\n",
        "import datetime\n",
        "from faker import Faker\n",
        "from tqdm import tqdm\n",
        "from elasticsearch import Elasticsearch, helpers\n",
        "from sentence_transformers import SentenceTransformer\n",
        "import numpy as np\n"
      ]
    },
    {
      "cell_type": "code",
      "source": [
        "# ✅ Step 3: Initialize Faker and Model\n",
        "fake = Faker()\n",
        "model = SentenceTransformer(\"all-MiniLM-L6-v2\")"
      ],
      "metadata": {
        "id": "HndHq1I-n7HR"
      },
      "execution_count": null,
      "outputs": []
    },
    {
      "cell_type": "code",
      "source": [
        "# Step 4: Generate Synthetic Data (50 Records)\n",
        "def generate_record(record_id):\n",
        "    return {\n",
        "        \"record_id\": record_id,\n",
        "        \"sensor_name\": fake.domain_word(),\n",
        "        \"location\": fake.city(),\n",
        "        \"industry\": random.choice([\"Energy\", \"Weather\"]),\n",
        "        \"status\": random.choice([\"Active\", \"Inactive\"]),\n",
        "        \"temperature\": round(random.uniform(-20, 50), 2),\n",
        "        \"pressure\": round(random.uniform(950, 1050), 2),\n",
        "        \"humidity\": round(random.uniform(0, 100), 2),\n",
        "        \"wind_speed\": round(random.uniform(0, 100), 2),\n",
        "        \"is_critical\": random.choice([True, False]),\n",
        "        \"timestamp\": fake.date_time_this_decade().isoformat(),\n",
        "        \"notes\": fake.text(max_nb_chars=200)\n",
        "    }\n",
        "\n",
        "data = [generate_record(i) for i in range(50)]"
      ],
      "metadata": {
        "id": "V38wAnX6oozH"
      },
      "execution_count": 3,
      "outputs": []
    },
    {
      "cell_type": "code",
      "source": [
        "# Step 5: Add combined_text and embedding fields\n",
        "def get_combined_text(doc):\n",
        "    fields = [\n",
        "        \"sensor_name\", \"location\", \"industry\", \"status\",\n",
        "        \"temperature\", \"pressure\", \"humidity\", \"wind_speed\",\n",
        "        \"is_critical\", \"timestamp\", \"notes\"\n",
        "    ]\n",
        "    return \" \".join([str(doc[f]) for f in fields])\n",
        "\n",
        "for doc in tqdm(data):\n",
        "    doc[\"combined_text\"] = get_combined_text(doc)\n",
        "    doc[\"embedding\"] = model.encode(doc[\"combined_text\"]).tolist()"
      ],
      "metadata": {
        "colab": {
          "base_uri": "https://localhost:8080/"
        },
        "id": "1ycImL-5pBNR",
        "outputId": "e3fd7c14-e556-4771-b56e-03283316f2ab"
      },
      "execution_count": 4,
      "outputs": [
        {
          "output_type": "stream",
          "name": "stderr",
          "text": [
            "100%|██████████| 50/50 [00:03<00:00, 16.26it/s]\n"
          ]
        }
      ]
    },
    {
      "cell_type": "code",
      "source": [
        "es = Elasticsearch(\n",
        "    \"https://my-elasticsearch-project-e8e56c.es.eu-west-1.aws.elastic.cloud:443\",\n",
        "    api_key=\"VEhQQ0NKY0JKdnBza29EUXFDZnA6Z0F3cWlpN290WkZfTWgwQzVGc1Z5Zw==\"\n",
        ")"
      ],
      "metadata": {
        "id": "hfd_q1EEpFUf"
      },
      "execution_count": 5,
      "outputs": []
    },
    {
      "cell_type": "code",
      "source": [
        "INDEX_NAME = \"timeseries_metadata_v2\"\n",
        "\n",
        "# Step 7: Define Index Mapping\n",
        "mapping = {\n",
        "    \"mappings\": {\n",
        "        \"properties\": {\n",
        "            \"record_id\": {\"type\": \"long\"},\n",
        "            \"sensor_name\": {\"type\": \"keyword\"},\n",
        "            \"location\": {\"type\": \"keyword\"},\n",
        "            \"industry\": {\"type\": \"keyword\"},\n",
        "            \"status\": {\"type\": \"keyword\"},\n",
        "            \"temperature\": {\"type\": \"float\"},\n",
        "            \"pressure\": {\"type\": \"float\"},\n",
        "            \"humidity\": {\"type\": \"float\"},\n",
        "            \"wind_speed\": {\"type\": \"float\"},\n",
        "            \"is_critical\": {\"type\": \"boolean\"},\n",
        "            \"timestamp\": {\"type\": \"date\"},\n",
        "            \"notes\": {\"type\": \"text\"},\n",
        "            \"combined_text\": {\"type\": \"text\"},\n",
        "            \"embedding\": {\n",
        "                \"type\": \"dense_vector\",\n",
        "                \"dims\": 384,\n",
        "                \"index\": True,\n",
        "                \"similarity\": \"cosine\"\n",
        "            }\n",
        "        }\n",
        "    }\n",
        "}\n",
        "\n",
        "# Step 8: Create Index\n",
        "if es.indices.exists(index=INDEX_NAME):\n",
        "    es.indices.delete(index=INDEX_NAME)\n",
        "\n",
        "es.indices.create(index=INDEX_NAME, body=mapping)"
      ],
      "metadata": {
        "colab": {
          "base_uri": "https://localhost:8080/"
        },
        "id": "uU7BvVbwpMvm",
        "outputId": "6213e015-1974-4783-d92e-60728674887b"
      },
      "execution_count": 6,
      "outputs": [
        {
          "output_type": "execute_result",
          "data": {
            "text/plain": [
              "ObjectApiResponse({'acknowledged': True, 'shards_acknowledged': True, 'index': 'timeseries_metadata_v2'})"
            ]
          },
          "metadata": {},
          "execution_count": 6
        }
      ]
    },
    {
      "cell_type": "code",
      "source": [
        "# Step 9: Bulk Index Documents\n",
        "actions = [\n",
        "    {\n",
        "        \"_index\": INDEX_NAME,\n",
        "        \"_id\": doc[\"record_id\"],\n",
        "        \"_source\": doc\n",
        "    }\n",
        "    for doc in data\n",
        "]\n",
        "helpers.bulk(es, actions)"
      ],
      "metadata": {
        "colab": {
          "base_uri": "https://localhost:8080/"
        },
        "id": "HRqvgeEcpRcG",
        "outputId": "e0c16416-4d3f-470c-d520-baab33f90554"
      },
      "execution_count": 7,
      "outputs": [
        {
          "output_type": "execute_result",
          "data": {
            "text/plain": [
              "(50, [])"
            ]
          },
          "metadata": {},
          "execution_count": 7
        }
      ]
    },
    {
      "cell_type": "code",
      "source": [
        "# Step 10: Define Search Functions\n",
        "INCLUDED_FIELDS = [\n",
        "    \"record_id\", \"sensor_name\", \"location\", \"industry\", \"status\",\n",
        "    \"temperature\", \"pressure\", \"humidity\", \"wind_speed\",\n",
        "    \"is_critical\", \"timestamp\", \"notes\"\n",
        "]\n",
        "\n",
        "MIN_SIMILARITY_SCORE = 0.5  # configurable\n",
        "\n",
        "def filter_fields_with_score(results, min_score=MIN_SIMILARITY_SCORE):\n",
        "    filtered = [\n",
        "        {**{k: hit[\"_source\"].get(k) for k in INCLUDED_FIELDS}, \"score\": hit[\"_score\"]}\n",
        "        for hit in results[\"hits\"][\"hits\"]\n",
        "        if hit.get(\"_score\", 0) >= min_score\n",
        "    ]\n",
        "    if not filtered:\n",
        "        return {\"warning\": f\"No relevant matches found (score >= {min_score}).\"}\n",
        "    return filtered\n",
        "\n",
        "def get_all():\n",
        "    return es.search(index=INDEX_NAME, query={\"match_all\":{}},size=50,source=INCLUDED_FIELDS)\n",
        "\n",
        "def keyword_search(field, value):\n",
        "    return es.search(index=INDEX_NAME, query={\"term\": {field: {\"value\": value}}},source=INCLUDED_FIELDS)\n",
        "\n",
        "def full_text_search(field, query):\n",
        "    return es.search(index=INDEX_NAME, query={\"match\": {field: query}},source=INCLUDED_FIELDS)\n",
        "\n",
        "def fuzzy_search(field, query):\n",
        "    return es.search(index=INDEX_NAME, query={\"match\": {field: {\"query\": query, \"fuzziness\": \"AUTO\"}}},source=INCLUDED_FIELDS)\n",
        "\n",
        "def semantic_search(query_text, top_k=5, num_candidates=100, min_score=0.65):\n",
        "    vector = model.encode(query_text).tolist()\n",
        "    res = es.search(\n",
        "        index=INDEX_NAME,\n",
        "        knn={\n",
        "            \"field\": \"embedding\",\n",
        "            \"query_vector\": vector,\n",
        "            \"k\": top_k,\n",
        "            \"num_candidates\": num_candidates\n",
        "        },\n",
        "        source=INCLUDED_FIELDS\n",
        "    )\n",
        "    return filter_fields_with_score(res, min_score)\n",
        "\n",
        "def hybrid_search(query_text, top_k=5, num_candidates=10000, min_score=0.65):\n",
        "    vector = model.encode(query_text).tolist()\n",
        "    res = es.search(\n",
        "        index=INDEX_NAME,\n",
        "        knn={\n",
        "            \"field\": \"embedding\",\n",
        "            \"query_vector\": vector,\n",
        "            \"k\": top_k,\n",
        "            \"num_candidates\": num_candidates\n",
        "        },\n",
        "        query={\n",
        "            \"bool\": {\n",
        "                \"should\": [\n",
        "                    {\"match\": {\"combined_text\": query_text}}\n",
        "                ]\n",
        "            }\n",
        "        },\n",
        "        _source=INCLUDED_FIELDS\n",
        "    )\n",
        "    return filter_fields_with_score(res, min_score)\n",
        "\n",
        "def hybrid_search_v1(query_text, top_k=5, num_candidates=10000, min_score=0.65):\n",
        "    print(top_k)\n",
        "    vector = model.encode(query_text).tolist()\n",
        "    res = es.search(\n",
        "        index=INDEX_NAME,\n",
        "        knn={\n",
        "            \"field\": \"embedding\",\n",
        "            \"query_vector\": vector,\n",
        "            \"k\": top_k,\n",
        "            \"num_candidates\": num_candidates\n",
        "        },\n",
        "        query={\n",
        "          \"bool\": {\n",
        "              \"should\": [\n",
        "                  {\"match\": {\"combined_text\": {\"query\": query_text, \"boost\": 1}}},\n",
        "                  {\"match\": {\"industry\": {\"query\": query_text, \"boost\": 2}}},\n",
        "                  {\"match\": {\"sensor_name\": {\"query\": query_text, \"boost\": 1.5}}},\n",
        "              ]\n",
        "          }\n",
        "        },\n",
        "        _source=INCLUDED_FIELDS\n",
        "    )\n",
        "    return filter_fields_with_score(res, min_score)\n",
        "\n"
      ],
      "metadata": {
        "id": "YvsdsukEpZQO"
      },
      "execution_count": 74,
      "outputs": []
    },
    {
      "cell_type": "code",
      "source": [
        "def print_results(response):\n",
        "    for hit in response[\"hits\"][\"hits\"]:\n",
        "        source = hit[\"_source\"]\n",
        "        filtered = {k: source[k] for k in [\n",
        "            \"record_id\", \"sensor_name\", \"location\", \"industry\", \"status\",\n",
        "            \"temperature\", \"pressure\", \"humidity\", \"wind_speed\",\n",
        "            \"is_critical\", \"timestamp\", \"notes\"\n",
        "        ]}\n",
        "        print(f\"\\n📄 Score: {hit.get('_score', 'N/A')}\")\n",
        "        for key, val in filtered.items():\n",
        "            print(f\"{key}: {val}\")"
      ],
      "metadata": {
        "id": "SFImqlLtpeE2"
      },
      "execution_count": 29,
      "outputs": []
    },
    {
      "cell_type": "code",
      "source": [
        "print(\"\\n🔍 Keyword Search:\")\n",
        "print_results(keyword_search(\"industry\", \"Energy\"))\n",
        "\n",
        "print(\"\\n🔍 Full Text Search:\")\n",
        "print_results(full_text_search(\"notes\", \"solar panel\"))\n",
        "\n",
        "print(\"\\n🔍 Fuzzy Search:\")\n",
        "print_results(fuzzy_search(\"sensor_name\", \"senosr\"))\n",
        "\n",
        "print(\"\\n🧠 Semantic Search:\")\n",
        "print_results(semantic_search(\"pressure is dropping in windy area\"))\n",
        "\n",
        "print(\"\\n🧠🔍 Hybrid Search:\")\n",
        "print_results(hybrid_search(\"windy condition with high temperature\"))"
      ],
      "metadata": {
        "id": "A9aIVMlHphxl"
      },
      "execution_count": null,
      "outputs": []
    },
    {
      "cell_type": "code",
      "source": [
        "!pip install fastapi uvicorn pyngrok nest-asyncio"
      ],
      "metadata": {
        "id": "OBJqavzmDfAi"
      },
      "execution_count": null,
      "outputs": []
    },
    {
      "cell_type": "code",
      "source": [
        "from fastapi import FastAPI, Query\n",
        "app = FastAPI(title=\"Hybrid Semantic Search API\")\n",
        "\n",
        "@app.get(\"/\")\n",
        "def read_root():\n",
        "    return {\"message\": \"Hello from FastAPI in Colab!\"}\n",
        "\n",
        "@app.get(\"/search/keyword\")\n",
        "def search_keyword(field: str, value: str):\n",
        "    return keyword_search(field, value)\n",
        "\n",
        "@app.get(\"/search/all\")\n",
        "def search_keyword():\n",
        "    return get_all()\n",
        "\n",
        "@app.get(\"/search/fulltext\")\n",
        "def search_full_text(field: str, text: str):\n",
        "    return full_text_search(field, text)\n",
        "\n",
        "@app.get(\"/search/fuzzy\")\n",
        "def search_fuzzy(field: str, text: str):\n",
        "    return fuzzy_search(field, text)\n",
        "\n",
        "@app.get(\"/search/semantic\")\n",
        "def search_semantic(\n",
        "    text: str,\n",
        "    top_k: int = Query(5, ge=1),\n",
        "    num_candidates: int = Query(50, ge=10),\n",
        "    min_score: float = Query(0.8, ge=0.0, le=1.0)\n",
        "):\n",
        "    return semantic_search(text, top_k, num_candidates, min_score)\n",
        "\n",
        "@app.get(\"/search/v1/hybrid\")\n",
        "def search_hybrid(\n",
        "    text: str,\n",
        "    top_k: int = Query(5, ge=1),\n",
        "    num_candidates: int = Query(50, ge=10),\n",
        "    min_score: float = Query(0.8, ge=0.0, le=1.0)\n",
        "):\n",
        "    return hybrid_search_v1(text, top_k, num_candidates, min_score)"
      ],
      "metadata": {
        "id": "9eetnfDqp5Vu"
      },
      "execution_count": 72,
      "outputs": []
    },
    {
      "cell_type": "code",
      "source": [
        "import nest_asyncio\n",
        "from pyngrok import ngrok\n",
        "import uvicorn"
      ],
      "metadata": {
        "id": "Lw6gdFN-DgLP"
      },
      "execution_count": 17,
      "outputs": []
    },
    {
      "cell_type": "code",
      "source": [
        "ngrok.set_auth_token(\"2xv9glaTuMZthP6cERPEuPkyzka_7fo1E7SchoeftUFynn8Sx\")"
      ],
      "metadata": {
        "id": "KldLtuaAFQKO"
      },
      "execution_count": 19,
      "outputs": []
    },
    {
      "cell_type": "code",
      "source": [
        "# Step: Apply nest_asyncio to allow nested event loops\n",
        "nest_asyncio.apply()\n",
        "\n",
        "# Step: Create a tunnel\n",
        "public_url = ngrok.connect(8000)\n",
        "print(\"🚀 Public FastAPI URL:\", public_url)\n",
        "print(\"📘 Swagger Docs:\", f\"{public_url}/docs\")\n",
        "print(\"📙 ReDoc Docs:\", f\"{public_url}/redoc\")\n",
        "\n",
        "# Step: Run the FastAPI app\n",
        "uvicorn.run(app, port=8000)"
      ],
      "metadata": {
        "colab": {
          "base_uri": "https://localhost:8080/"
        },
        "id": "9d9q8NyiD8L-",
        "outputId": "d6acf6e8-a182-4538-b8bf-da37617ac647"
      },
      "execution_count": 75,
      "outputs": [
        {
          "output_type": "stream",
          "name": "stdout",
          "text": [
            "🚀 Public FastAPI URL: NgrokTunnel: \"https://4c36-34-48-74-152.ngrok-free.app\" -> \"http://localhost:8000\"\n",
            "📘 Swagger Docs: NgrokTunnel: \"https://4c36-34-48-74-152.ngrok-free.app\" -> \"http://localhost:8000\"/docs\n",
            "📙 ReDoc Docs: NgrokTunnel: \"https://4c36-34-48-74-152.ngrok-free.app\" -> \"http://localhost:8000\"/redoc\n"
          ]
        },
        {
          "output_type": "stream",
          "name": "stderr",
          "text": [
            "INFO:     Started server process [1743]\n",
            "INFO:     Waiting for application startup.\n",
            "INFO:     Application startup complete.\n",
            "INFO:     Uvicorn running on http://127.0.0.1:8000 (Press CTRL+C to quit)\n"
          ]
        },
        {
          "output_type": "stream",
          "name": "stdout",
          "text": [
            "INFO:     2a01:4b00:ad04:b500:374:4a75:eaa3:9bbe:0 - \"GET / HTTP/1.1\" 200 OK\n",
            "INFO:     2a01:4b00:ad04:b500:374:4a75:eaa3:9bbe:0 - \"GET /favicon.ico HTTP/1.1\" 404 Not Found\n",
            "INFO:     2a01:4b00:ad04:b500:374:4a75:eaa3:9bbe:0 - \"GET /docs HTTP/1.1\" 200 OK\n",
            "INFO:     2a01:4b00:ad04:b500:374:4a75:eaa3:9bbe:0 - \"GET /openapi.json HTTP/1.1\" 200 OK\n",
            "INFO:     2a01:4b00:ad04:b500:374:4a75:eaa3:9bbe:0 - \"GET /search/all HTTP/1.1\" 200 OK\n"
          ]
        },
        {
          "output_type": "stream",
          "name": "stderr",
          "text": [
            "INFO:     Shutting down\n",
            "INFO:     Waiting for application shutdown.\n",
            "INFO:     Application shutdown complete.\n",
            "INFO:     Finished server process [1743]\n"
          ]
        }
      ]
    },
    {
      "cell_type": "code",
      "source": [],
      "metadata": {
        "id": "vhrfcf5QEIjv"
      },
      "execution_count": null,
      "outputs": []
    }
  ]
}